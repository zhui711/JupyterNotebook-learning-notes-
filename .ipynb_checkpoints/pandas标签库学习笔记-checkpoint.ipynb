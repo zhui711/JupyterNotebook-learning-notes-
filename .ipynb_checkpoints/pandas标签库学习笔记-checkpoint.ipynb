{
 "cells": [
  {
   "cell_type": "code",
   "execution_count": 10,
   "id": "dee47f28",
   "metadata": {},
   "outputs": [],
   "source": [
    "#导入numpy时常给别名np，导入pandas时常给的别名就是pd\n",
    "#——————————类比———————————— \n",
    "import pandas as pd\n",
    "import numpy as np"
   ]
  },
  {
   "cell_type": "code",
   "execution_count": 2,
   "id": "32339d90",
   "metadata": {},
   "outputs": [],
   "source": [
    "#作为标签库，pandas对象在numpy数组基础上给予其行列标签。即 numpy-pandas == 列表-字典\n",
    "#pandas中所有的数组特性仍在，pandas的数据以numpy数组的方式存储"
   ]
  },
  {
   "cell_type": "code",
   "execution_count": 3,
   "id": "58153d09",
   "metadata": {},
   "outputs": [],
   "source": [
    "#part1：对象的创建"
   ]
  },
  {
   "cell_type": "code",
   "execution_count": 4,
   "id": "b8728876",
   "metadata": {},
   "outputs": [
    {
     "name": "stdout",
     "output_type": "stream",
     "text": [
      "a    0.00\n",
      "b    0.25\n",
      "c    0.50\n",
      "d    0.75\n",
      "e    1.00\n",
      "dtype: float64\n"
     ]
    }
   ],
   "source": [
    "#numpy中使用np.array()将列表转化为数组；在pandas中也可以通过pd.Series()将字典转化为series对象\n",
    "dict_v={'a':0,'b':0.25,'c':0.5,'d':0.75,'e':1}\n",
    "sr=pd.Series(dict_v)    #用字典创建对象（一维）\n",
    "print(sr)"
   ]
  },
  {
   "cell_type": "code",
   "execution_count": 5,
   "id": "bc1fe9ee",
   "metadata": {},
   "outputs": [
    {
     "name": "stdout",
     "output_type": "stream",
     "text": [
      "a    0.00\n",
      "b    0.25\n",
      "c    0.50\n",
      "d    0.75\n",
      "e    1.00\n",
      "dtype: float64\n"
     ]
    }
   ],
   "source": [
    "#字典打起来太麻烦了————更好的创造对象方法：数组创建法\n",
    "#给pd.Series()传两个参数：values(列表、数组、张量均可);键index（索引）\n",
    "v=[0,0.25,0.5,0.75,1]\n",
    "k=['a','b','c','d','e']       #用列表创建对象\n",
    "#键值创建法\n",
    "sr=pd.Series(v,index=k)   #第二个index=k使用了函数的关键字参数，如果不写就是默认的0-5数字\n",
    "print(sr)"
   ]
  },
  {
   "cell_type": "code",
   "execution_count": 6,
   "id": "a80ef4ab",
   "metadata": {},
   "outputs": [],
   "source": [
    "#Series的属性有value和index\n",
    "#创建二维对象：\n",
    "#字典创建法：pd.DataFrame({字典})——相当于对一列列数据做拼接\n",
    "#√数组创建法：直接给pd.DataFrame()函数传参数，就3个：值values；行标签index；列标签columns ——————见下\n",
    "#PS:行/列标签省略就是从0开始的默认编号"
   ]
  },
  {
   "cell_type": "code",
   "execution_count": 11,
   "id": "54fd21e0",
   "metadata": {},
   "outputs": [
    {
     "name": "stdout",
     "output_type": "stream",
     "text": [
      "    年龄 性别\n",
      "1号  53  女\n",
      "2号  64  男\n",
      "3号  72  男\n",
      "4号  82  女\n"
     ]
    }
   ],
   "source": [
    "#设定好键值\n",
    "v=np.array([[53,'女'],[64,'男'],[72,'男'],[82,'女']])\n",
    "i=['1号','2号','3号','4号']\n",
    "c=['年龄','性别']\n",
    "\n",
    "df=pd.DataFrame(v,index=i,columns=c)   #数组创建法\n",
    "print(df)"
   ]
  },
  {
   "cell_type": "code",
   "execution_count": 12,
   "id": "1352d0f5",
   "metadata": {},
   "outputs": [
    {
     "name": "stdout",
     "output_type": "stream",
     "text": [
      "    年龄 性别\n",
      "1号  53  女\n",
      "2号  64  男\n",
      "3号  72  男\n",
      "4号  82  女\n"
     ]
    }
   ],
   "source": [
    "#当然也可以不用np\n",
    "v=[[53,'女'],[64,'男'],[72,'男'],[82,'女']]\n",
    "i=['1号','2号','3号','4号']\n",
    "c=['年龄','性别']\n",
    "\n",
    "df=pd.DataFrame(v,index=i,columns=c)   #数组创建法\n",
    "print(df)"
   ]
  },
  {
   "cell_type": "code",
   "execution_count": 13,
   "id": "75f92292",
   "metadata": {},
   "outputs": [],
   "source": [
    "#part2：对象索引\n",
    "#索引——显式：loc （去掉也一样）； 隐式：iloc"
   ]
  },
  {
   "cell_type": "code",
   "execution_count": 17,
   "id": "f38b9e06",
   "metadata": {},
   "outputs": [
    {
     "name": "stdout",
     "output_type": "stream",
     "text": [
      "1号    53\n",
      "2号    64\n",
      "3号    72\n",
      "4号    82\n",
      "dtype: int64\n"
     ]
    }
   ],
   "source": [
    "v=[53,64,72,82]\n",
    "k=['1号','2号','3号','4号']\n",
    "sr=pd.Series(v,index=k)\n",
    "print(sr)"
   ]
  },
  {
   "cell_type": "code",
   "execution_count": 18,
   "id": "2c86f16c",
   "metadata": {},
   "outputs": [
    {
     "data": {
      "text/plain": [
       "72"
      ]
     },
     "execution_count": 18,
     "metadata": {},
     "output_type": "execute_result"
    }
   ],
   "source": [
    "#访问元素\n",
    "sr['3号']"
   ]
  },
  {
   "cell_type": "code",
   "execution_count": 19,
   "id": "455684ac",
   "metadata": {},
   "outputs": [
    {
     "data": {
      "text/plain": [
       "1号    53\n",
       "2号    64\n",
       "3号    72\n",
       "dtype: int64"
      ]
     },
     "execution_count": 19,
     "metadata": {},
     "output_type": "execute_result"
    }
   ],
   "source": [
    "#显示索引是包括了右边界\n",
    "sr['1号':'3号']"
   ]
  },
  {
   "cell_type": "code",
   "execution_count": 20,
   "id": "63cf79f2",
   "metadata": {},
   "outputs": [],
   "source": [
    "#创建新对象赋值还是与元对象绑定的，若想创建独立的新变量则要和numpy一样用.copy()即可"
   ]
  },
  {
   "cell_type": "code",
   "execution_count": 21,
   "id": "83f4a421",
   "metadata": {},
   "outputs": [
    {
     "data": {
      "text/plain": [
       "53"
      ]
     },
     "execution_count": 21,
     "metadata": {},
     "output_type": "execute_result"
    }
   ],
   "source": [
    "#在二维对象中索引器必须存在——————索引器就是服务于二维对象的\n",
    "df.loc['1号','年龄']"
   ]
  },
  {
   "cell_type": "code",
   "execution_count": 23,
   "id": "c78b1793",
   "metadata": {},
   "outputs": [
    {
     "data": {
      "text/plain": [
       "年龄    72\n",
       "性别     男\n",
       "Name: 3号, dtype: object"
      ]
     },
     "execution_count": 23,
     "metadata": {},
     "output_type": "execute_result"
    }
   ],
   "source": [
    "#索引切片\n",
    "df.loc['3号',:]  #提取二维对象的行"
   ]
  },
  {
   "cell_type": "code",
   "execution_count": 24,
   "id": "76d7aea2",
   "metadata": {},
   "outputs": [
    {
     "data": {
      "text/plain": [
       "1号    53\n",
       "2号    64\n",
       "3号    72\n",
       "4号    82\n",
       "Name: 年龄, dtype: int64"
      ]
     },
     "execution_count": 24,
     "metadata": {},
     "output_type": "execute_result"
    }
   ],
   "source": [
    "df.loc[:,'年龄']  #提取矩阵对象的列"
   ]
  },
  {
   "cell_type": "code",
   "execution_count": 25,
   "id": "aa44427f",
   "metadata": {},
   "outputs": [],
   "source": [
    "#part3：对象的变形\n",
    "#转置仍然是.T"
   ]
  },
  {
   "cell_type": "code",
   "execution_count": 26,
   "id": "4e88d986",
   "metadata": {},
   "outputs": [
    {
     "data": {
      "text/html": [
       "<div>\n",
       "<style scoped>\n",
       "    .dataframe tbody tr th:only-of-type {\n",
       "        vertical-align: middle;\n",
       "    }\n",
       "\n",
       "    .dataframe tbody tr th {\n",
       "        vertical-align: top;\n",
       "    }\n",
       "\n",
       "    .dataframe thead th {\n",
       "        text-align: right;\n",
       "    }\n",
       "</style>\n",
       "<table border=\"1\" class=\"dataframe\">\n",
       "  <thead>\n",
       "    <tr style=\"text-align: right;\">\n",
       "      <th></th>\n",
       "      <th>性别</th>\n",
       "      <th>年龄</th>\n",
       "    </tr>\n",
       "  </thead>\n",
       "  <tbody>\n",
       "    <tr>\n",
       "      <th>1号</th>\n",
       "      <td>女</td>\n",
       "      <td>53</td>\n",
       "    </tr>\n",
       "    <tr>\n",
       "      <th>2号</th>\n",
       "      <td>男</td>\n",
       "      <td>64</td>\n",
       "    </tr>\n",
       "    <tr>\n",
       "      <th>3号</th>\n",
       "      <td>男</td>\n",
       "      <td>72</td>\n",
       "    </tr>\n",
       "    <tr>\n",
       "      <th>4号</th>\n",
       "      <td>女</td>\n",
       "      <td>82</td>\n",
       "    </tr>\n",
       "  </tbody>\n",
       "</table>\n",
       "</div>"
      ],
      "text/plain": [
       "   性别  年龄\n",
       "1号  女  53\n",
       "2号  男  64\n",
       "3号  男  72\n",
       "4号  女  82"
      ]
     },
     "execution_count": 26,
     "metadata": {},
     "output_type": "execute_result"
    }
   ],
   "source": [
    "#左右翻转————倒着采样(-1)\n",
    "df=df.iloc[ : , : : -1]\n",
    "df"
   ]
  },
  {
   "cell_type": "code",
   "execution_count": 27,
   "id": "67af4078",
   "metadata": {},
   "outputs": [
    {
     "data": {
      "text/html": [
       "<div>\n",
       "<style scoped>\n",
       "    .dataframe tbody tr th:only-of-type {\n",
       "        vertical-align: middle;\n",
       "    }\n",
       "\n",
       "    .dataframe tbody tr th {\n",
       "        vertical-align: top;\n",
       "    }\n",
       "\n",
       "    .dataframe thead th {\n",
       "        text-align: right;\n",
       "    }\n",
       "</style>\n",
       "<table border=\"1\" class=\"dataframe\">\n",
       "  <thead>\n",
       "    <tr style=\"text-align: right;\">\n",
       "      <th></th>\n",
       "      <th>性别</th>\n",
       "      <th>年龄</th>\n",
       "    </tr>\n",
       "  </thead>\n",
       "  <tbody>\n",
       "    <tr>\n",
       "      <th>4号</th>\n",
       "      <td>女</td>\n",
       "      <td>82</td>\n",
       "    </tr>\n",
       "    <tr>\n",
       "      <th>3号</th>\n",
       "      <td>男</td>\n",
       "      <td>72</td>\n",
       "    </tr>\n",
       "    <tr>\n",
       "      <th>2号</th>\n",
       "      <td>男</td>\n",
       "      <td>64</td>\n",
       "    </tr>\n",
       "    <tr>\n",
       "      <th>1号</th>\n",
       "      <td>女</td>\n",
       "      <td>53</td>\n",
       "    </tr>\n",
       "  </tbody>\n",
       "</table>\n",
       "</div>"
      ],
      "text/plain": [
       "   性别  年龄\n",
       "4号  女  82\n",
       "3号  男  72\n",
       "2号  男  64\n",
       "1号  女  53"
      ]
     },
     "execution_count": 27,
     "metadata": {},
     "output_type": "execute_result"
    }
   ],
   "source": [
    "#上下翻转\n",
    "df=df.iloc[ : : -1 , : ]  #行和列都是头到尾，采样间隔是-1——倒着采样\n",
    "df"
   ]
  },
  {
   "cell_type": "code",
   "execution_count": 29,
   "id": "9152e0e2",
   "metadata": {},
   "outputs": [
    {
     "data": {
      "text/plain": [
       "(1号    10\n",
       " 2号    20\n",
       " 3号    30\n",
       " 4号    40\n",
       " dtype: int64,\n",
       " 4号    40\n",
       " 5号    50\n",
       " 6号    60\n",
       " dtype: int64)"
      ]
     },
     "execution_count": 29,
     "metadata": {},
     "output_type": "execute_result"
    }
   ],
   "source": [
    "#对象的拼接：pd.concat()  ————类比np.concatenate()\n",
    "v1=[10,20,30,40]\n",
    "v2=[40,50,60]\n",
    "k1=['1号','2号','3号','4号']\n",
    "k2=['4号','5号','6号']\n",
    "sr1=pd.Series(v1,index=k1)\n",
    "sr2=pd.Series(v2,index=k2)\n",
    "sr1,sr2"
   ]
  },
  {
   "cell_type": "code",
   "execution_count": 31,
   "id": "bbf6c354",
   "metadata": {},
   "outputs": [
    {
     "data": {
      "text/plain": [
       "1号    10\n",
       "2号    20\n",
       "3号    30\n",
       "4号    40\n",
       "4号    40\n",
       "5号    50\n",
       "6号    60\n",
       "dtype: int64"
      ]
     },
     "execution_count": 31,
     "metadata": {},
     "output_type": "execute_result"
    }
   ],
   "source": [
    "#合并\n",
    "pd.concat([sr1,sr2])\n",
    "\n",
    "#pandas对象放弃了集合与字典索引中“不可重复”的特性————拓展了大数据分析与处理的应用场景"
   ]
  },
  {
   "cell_type": "code",
   "execution_count": 34,
   "id": "8be625d4",
   "metadata": {},
   "outputs": [],
   "source": [
    "#在二维对象中加入一行/列数据\n",
    "#加上一列————即加一类：df['列标签']=[a,b,c——即各元素]\n",
    "#加上一行————即加一组数据：df.loc['标号']=[对应的数据]"
   ]
  },
  {
   "cell_type": "code",
   "execution_count": 36,
   "id": "9f10ba00",
   "metadata": {},
   "outputs": [],
   "source": [
    "#合并就用pd.concat([df1,df2],axis=0/1)   ————axis=0可以不写，表示添加行个体；axis=1表示添加列特征"
   ]
  },
  {
   "cell_type": "markdown",
   "id": "240b9310",
   "metadata": {},
   "source": [
    "### "
   ]
  },
  {
   "cell_type": "code",
   "execution_count": 37,
   "id": "20752939",
   "metadata": {},
   "outputs": [],
   "source": [
    "#part4：对象的运算————运算的就是数字部分\n",
    "#可以用numpy上的数学函数进行计算"
   ]
  },
  {
   "cell_type": "code",
   "execution_count": 40,
   "id": "d9b3f091",
   "metadata": {},
   "outputs": [
    {
     "data": {
      "text/plain": [
       "1号    53.0\n",
       "2号     NaN\n",
       "3号    72.0\n",
       "4号    82.0\n",
       "dtype: float64"
      ]
     },
     "execution_count": 40,
     "metadata": {},
     "output_type": "execute_result"
    }
   ],
   "source": [
    "#part5：对象的缺失值\n",
    "\n",
    "#发现缺失值使用.isnull()方法\n",
    "#剔除缺失值使用.dropna()方法\n",
    "#填充缺失值使用.fillna()方法————填充内容多样\n",
    "\n",
    "v=[53,None,72,82]\n",
    "k=['1号','2号','3号','4号']\n",
    "sr=pd.Series(v,index=k)\n",
    "sr"
   ]
  },
  {
   "cell_type": "code",
   "execution_count": 41,
   "id": "8acb732b",
   "metadata": {},
   "outputs": [
    {
     "data": {
      "text/plain": [
       "1号    False\n",
       "2号     True\n",
       "3号    False\n",
       "4号    False\n",
       "dtype: bool"
      ]
     },
     "execution_count": 41,
     "metadata": {},
     "output_type": "execute_result"
    }
   ],
   "source": [
    "#发现sr的缺失值\n",
    "sr.isnull()"
   ]
  },
  {
   "cell_type": "code",
   "execution_count": 42,
   "id": "19c42d78",
   "metadata": {},
   "outputs": [
    {
     "data": {
      "text/plain": [
       "1号    53.0\n",
       "3号    72.0\n",
       "4号    82.0\n",
       "dtype: float64"
      ]
     },
     "execution_count": 42,
     "metadata": {},
     "output_type": "execute_result"
    }
   ],
   "source": [
    "#剔除sr的缺失值（行）\n",
    "sr.dropna()\n",
    "#对于二维就是选择剔除行/列————剔除行只是一行数据，剔除列直接少了一个类别，所以肯定选前者的（）方法就跟一维一样"
   ]
  },
  {
   "cell_type": "code",
   "execution_count": 48,
   "id": "7c4a8b97",
   "metadata": {},
   "outputs": [],
   "source": [
    "#可为剔除缺失值设阈值\n",
    "#df.dropna(how='all')    这就表示这一行全都是缺失值的时候才剔除，同样可以设置达到5个剔除之类的"
   ]
  },
  {
   "cell_type": "code",
   "execution_count": 46,
   "id": "cd97c273",
   "metadata": {},
   "outputs": [
    {
     "data": {
      "text/plain": [
       "1号    53.0\n",
       "2号     0.0\n",
       "3号    72.0\n",
       "4号    82.0\n",
       "dtype: float64"
      ]
     },
     "execution_count": 46,
     "metadata": {},
     "output_type": "execute_result"
    }
   ],
   "source": [
    "#用常数0填充\n",
    "sr.fillna(0)"
   ]
  },
  {
   "cell_type": "code",
   "execution_count": 49,
   "id": "91b0fd45",
   "metadata": {},
   "outputs": [
    {
     "data": {
      "text/plain": [
       "1号    53.0\n",
       "2号    69.0\n",
       "3号    72.0\n",
       "4号    82.0\n",
       "dtype: float64"
      ]
     },
     "execution_count": 49,
     "metadata": {},
     "output_type": "execute_result"
    }
   ],
   "source": [
    "#用常数（均值）填充\n",
    "sr.fillna(np.mean(sr))"
   ]
  },
  {
   "cell_type": "code",
   "execution_count": 50,
   "id": "2e1f1bad",
   "metadata": {},
   "outputs": [
    {
     "data": {
      "text/plain": [
       "1号    53.0\n",
       "2号    53.0\n",
       "3号    72.0\n",
       "4号    82.0\n",
       "dtype: float64"
      ]
     },
     "execution_count": 50,
     "metadata": {},
     "output_type": "execute_result"
    }
   ],
   "source": [
    "#用前值填充\n",
    "sr.fillna(method='ffill')  #forward-fill"
   ]
  },
  {
   "cell_type": "code",
   "execution_count": 51,
   "id": "0a699fb4",
   "metadata": {},
   "outputs": [
    {
     "data": {
      "text/plain": [
       "1号    53.0\n",
       "2号    72.0\n",
       "3号    72.0\n",
       "4号    82.0\n",
       "dtype: float64"
      ]
     },
     "execution_count": 51,
     "metadata": {},
     "output_type": "execute_result"
    }
   ],
   "source": [
    "#用后值填充\n",
    "sr.fillna(method='bfill')  #backward-fill"
   ]
  },
  {
   "cell_type": "code",
   "execution_count": 52,
   "id": "91efd51d",
   "metadata": {},
   "outputs": [],
   "source": [
    "#part6:导入excel文件"
   ]
  },
  {
   "cell_type": "code",
   "execution_count": 58,
   "id": "866b567b",
   "metadata": {},
   "outputs": [
    {
     "data": {
      "text/html": [
       "<div>\n",
       "<style scoped>\n",
       "    .dataframe tbody tr th:only-of-type {\n",
       "        vertical-align: middle;\n",
       "    }\n",
       "\n",
       "    .dataframe tbody tr th {\n",
       "        vertical-align: top;\n",
       "    }\n",
       "\n",
       "    .dataframe thead th {\n",
       "        text-align: right;\n",
       "    }\n",
       "</style>\n",
       "<table border=\"1\" class=\"dataframe\">\n",
       "  <thead>\n",
       "    <tr style=\"text-align: right;\">\n",
       "      <th></th>\n",
       "      <th>age</th>\n",
       "      <th>gender</th>\n",
       "      <th>num</th>\n",
       "      <th>kun</th>\n",
       "    </tr>\n",
       "  </thead>\n",
       "  <tbody>\n",
       "    <tr>\n",
       "      <th>1号</th>\n",
       "      <td>10</td>\n",
       "      <td>女</td>\n",
       "      <td>1</td>\n",
       "      <td>是</td>\n",
       "    </tr>\n",
       "    <tr>\n",
       "      <th>2号</th>\n",
       "      <td>20</td>\n",
       "      <td>男</td>\n",
       "      <td>2</td>\n",
       "      <td>是</td>\n",
       "    </tr>\n",
       "    <tr>\n",
       "      <th>3号</th>\n",
       "      <td>30</td>\n",
       "      <td>男</td>\n",
       "      <td>3</td>\n",
       "      <td>是</td>\n",
       "    </tr>\n",
       "    <tr>\n",
       "      <th>4号</th>\n",
       "      <td>40</td>\n",
       "      <td>女</td>\n",
       "      <td>4</td>\n",
       "      <td>是</td>\n",
       "    </tr>\n",
       "    <tr>\n",
       "      <th>5号</th>\n",
       "      <td>50</td>\n",
       "      <td>男</td>\n",
       "      <td>5</td>\n",
       "      <td>否</td>\n",
       "    </tr>\n",
       "  </tbody>\n",
       "</table>\n",
       "</div>"
      ],
      "text/plain": [
       "    age gender  num kun\n",
       "1号   10      女    1   是\n",
       "2号   20      男    2   是\n",
       "3号   30      男    3   是\n",
       "4号   40      女    4   是\n",
       "5号   50      男    5   否"
      ]
     },
     "execution_count": 58,
     "metadata": {},
     "output_type": "execute_result"
    }
   ],
   "source": [
    "#创建excel文件录入信息，保证：第一列为index；第一行为columns\n",
    "df = pd.read_csv('pandastest.csv',index_col=0)\n",
    "df.head()"
   ]
  },
  {
   "cell_type": "code",
   "execution_count": null,
   "id": "d27cf86d",
   "metadata": {},
   "outputs": [],
   "source": [
    "#—————————————————————————————————————————————————————分界线—————————————————————————————————————————————————————————————————————"
   ]
  },
  {
   "cell_type": "code",
   "execution_count": 79,
   "id": "3931ddd1",
   "metadata": {},
   "outputs": [
    {
     "data": {
      "text/html": [
       "<div>\n",
       "<style scoped>\n",
       "    .dataframe tbody tr th:only-of-type {\n",
       "        vertical-align: middle;\n",
       "    }\n",
       "\n",
       "    .dataframe tbody tr th {\n",
       "        vertical-align: top;\n",
       "    }\n",
       "\n",
       "    .dataframe thead th {\n",
       "        text-align: right;\n",
       "    }\n",
       "</style>\n",
       "<table border=\"1\" class=\"dataframe\">\n",
       "  <thead>\n",
       "    <tr style=\"text-align: right;\">\n",
       "      <th></th>\n",
       "      <th>Survived</th>\n",
       "      <th>Pclass</th>\n",
       "      <th>Name</th>\n",
       "      <th>Sex</th>\n",
       "      <th>Age</th>\n",
       "      <th>SibSp</th>\n",
       "      <th>Parch</th>\n",
       "      <th>Ticket</th>\n",
       "      <th>Fare</th>\n",
       "      <th>Cabin</th>\n",
       "      <th>Embarked</th>\n",
       "    </tr>\n",
       "    <tr>\n",
       "      <th>PassengerId</th>\n",
       "      <th></th>\n",
       "      <th></th>\n",
       "      <th></th>\n",
       "      <th></th>\n",
       "      <th></th>\n",
       "      <th></th>\n",
       "      <th></th>\n",
       "      <th></th>\n",
       "      <th></th>\n",
       "      <th></th>\n",
       "      <th></th>\n",
       "    </tr>\n",
       "  </thead>\n",
       "  <tbody>\n",
       "    <tr>\n",
       "      <th>1</th>\n",
       "      <td>0</td>\n",
       "      <td>3</td>\n",
       "      <td>Braund, Mr. Owen Harris</td>\n",
       "      <td>male</td>\n",
       "      <td>22.0</td>\n",
       "      <td>1</td>\n",
       "      <td>0</td>\n",
       "      <td>A/5 21171</td>\n",
       "      <td>7.2500</td>\n",
       "      <td>NaN</td>\n",
       "      <td>S</td>\n",
       "    </tr>\n",
       "    <tr>\n",
       "      <th>2</th>\n",
       "      <td>1</td>\n",
       "      <td>1</td>\n",
       "      <td>Cumings, Mrs. John Bradley (Florence Briggs Th...</td>\n",
       "      <td>female</td>\n",
       "      <td>38.0</td>\n",
       "      <td>1</td>\n",
       "      <td>0</td>\n",
       "      <td>PC 17599</td>\n",
       "      <td>71.2833</td>\n",
       "      <td>C85</td>\n",
       "      <td>C</td>\n",
       "    </tr>\n",
       "    <tr>\n",
       "      <th>3</th>\n",
       "      <td>1</td>\n",
       "      <td>3</td>\n",
       "      <td>Heikkinen, Miss. Laina</td>\n",
       "      <td>female</td>\n",
       "      <td>26.0</td>\n",
       "      <td>0</td>\n",
       "      <td>0</td>\n",
       "      <td>STON/O2. 3101282</td>\n",
       "      <td>7.9250</td>\n",
       "      <td>NaN</td>\n",
       "      <td>S</td>\n",
       "    </tr>\n",
       "    <tr>\n",
       "      <th>4</th>\n",
       "      <td>1</td>\n",
       "      <td>1</td>\n",
       "      <td>Futrelle, Mrs. Jacques Heath (Lily May Peel)</td>\n",
       "      <td>female</td>\n",
       "      <td>35.0</td>\n",
       "      <td>1</td>\n",
       "      <td>0</td>\n",
       "      <td>113803</td>\n",
       "      <td>53.1000</td>\n",
       "      <td>C123</td>\n",
       "      <td>S</td>\n",
       "    </tr>\n",
       "    <tr>\n",
       "      <th>5</th>\n",
       "      <td>0</td>\n",
       "      <td>3</td>\n",
       "      <td>Allen, Mr. William Henry</td>\n",
       "      <td>male</td>\n",
       "      <td>35.0</td>\n",
       "      <td>0</td>\n",
       "      <td>0</td>\n",
       "      <td>373450</td>\n",
       "      <td>8.0500</td>\n",
       "      <td>NaN</td>\n",
       "      <td>S</td>\n",
       "    </tr>\n",
       "  </tbody>\n",
       "</table>\n",
       "</div>"
      ],
      "text/plain": [
       "             Survived  Pclass  \\\n",
       "PassengerId                     \n",
       "1                   0       3   \n",
       "2                   1       1   \n",
       "3                   1       3   \n",
       "4                   1       1   \n",
       "5                   0       3   \n",
       "\n",
       "                                                          Name     Sex   Age  \\\n",
       "PassengerId                                                                    \n",
       "1                                      Braund, Mr. Owen Harris    male  22.0   \n",
       "2            Cumings, Mrs. John Bradley (Florence Briggs Th...  female  38.0   \n",
       "3                                       Heikkinen, Miss. Laina  female  26.0   \n",
       "4                 Futrelle, Mrs. Jacques Heath (Lily May Peel)  female  35.0   \n",
       "5                                     Allen, Mr. William Henry    male  35.0   \n",
       "\n",
       "             SibSp  Parch            Ticket     Fare Cabin Embarked  \n",
       "PassengerId                                                          \n",
       "1                1      0         A/5 21171   7.2500   NaN        S  \n",
       "2                1      0          PC 17599  71.2833   C85        C  \n",
       "3                0      0  STON/O2. 3101282   7.9250   NaN        S  \n",
       "4                1      0            113803  53.1000  C123        S  \n",
       "5                0      0            373450   8.0500   NaN        S  "
      ]
     },
     "execution_count": 79,
     "metadata": {},
     "output_type": "execute_result"
    }
   ],
   "source": [
    "#part7:数据分析：导入excel后用前面的函数分析\n",
    "#以titanic为例\n",
    "df=pd.read_csv('titanic.csv',index_col=0)\n",
    "df.head()\n",
    "#把这个看成个神经网络，是否survive看成输出，输入就是别的————现在的任务就是根据这些输入预测神经网络的输出到底是0还是1"
   ]
  },
  {
   "cell_type": "code",
   "execution_count": 59,
   "id": "aecf85cf",
   "metadata": {},
   "outputs": [],
   "source": [
    "#数据透视 .pivot_table() ————第一个特征是输出特征（即是否survive）；第二个特征是输入特征"
   ]
  },
  {
   "cell_type": "code",
   "execution_count": 80,
   "id": "314a3ab8",
   "metadata": {},
   "outputs": [
    {
     "data": {
      "text/html": [
       "<div>\n",
       "<style scoped>\n",
       "    .dataframe tbody tr th:only-of-type {\n",
       "        vertical-align: middle;\n",
       "    }\n",
       "\n",
       "    .dataframe tbody tr th {\n",
       "        vertical-align: top;\n",
       "    }\n",
       "\n",
       "    .dataframe thead th {\n",
       "        text-align: right;\n",
       "    }\n",
       "</style>\n",
       "<table border=\"1\" class=\"dataframe\">\n",
       "  <thead>\n",
       "    <tr style=\"text-align: right;\">\n",
       "      <th></th>\n",
       "      <th>Survived</th>\n",
       "    </tr>\n",
       "    <tr>\n",
       "      <th>Sex</th>\n",
       "      <th></th>\n",
       "    </tr>\n",
       "  </thead>\n",
       "  <tbody>\n",
       "    <tr>\n",
       "      <th>female</th>\n",
       "      <td>0.742038</td>\n",
       "    </tr>\n",
       "    <tr>\n",
       "      <th>male</th>\n",
       "      <td>0.188908</td>\n",
       "    </tr>\n",
       "  </tbody>\n",
       "</table>\n",
       "</div>"
      ],
      "text/plain": [
       "        Survived\n",
       "Sex             \n",
       "female  0.742038\n",
       "male    0.188908"
      ]
     },
     "execution_count": 80,
     "metadata": {},
     "output_type": "execute_result"
    }
   ],
   "source": [
    "#一个特征：考虑sex是如何影响survive的：\n",
    "df.pivot_table(values='Survived',index='Sex')    #这个函数的第三个参数是aggfunc，默认是mean算均值（0.74和0.18）————本身就科学了"
   ]
  },
  {
   "cell_type": "code",
   "execution_count": 81,
   "id": "8d87fea8",
   "metadata": {},
   "outputs": [
    {
     "data": {
      "text/html": [
       "<div>\n",
       "<style scoped>\n",
       "    .dataframe tbody tr th:only-of-type {\n",
       "        vertical-align: middle;\n",
       "    }\n",
       "\n",
       "    .dataframe tbody tr th {\n",
       "        vertical-align: top;\n",
       "    }\n",
       "\n",
       "    .dataframe thead th {\n",
       "        text-align: right;\n",
       "    }\n",
       "</style>\n",
       "<table border=\"1\" class=\"dataframe\">\n",
       "  <thead>\n",
       "    <tr style=\"text-align: right;\">\n",
       "      <th>Pclass</th>\n",
       "      <th>1</th>\n",
       "      <th>2</th>\n",
       "      <th>3</th>\n",
       "    </tr>\n",
       "    <tr>\n",
       "      <th>Sex</th>\n",
       "      <th></th>\n",
       "      <th></th>\n",
       "      <th></th>\n",
       "    </tr>\n",
       "  </thead>\n",
       "  <tbody>\n",
       "    <tr>\n",
       "      <th>female</th>\n",
       "      <td>0.968085</td>\n",
       "      <td>0.921053</td>\n",
       "      <td>0.500000</td>\n",
       "    </tr>\n",
       "    <tr>\n",
       "      <th>male</th>\n",
       "      <td>0.368852</td>\n",
       "      <td>0.157407</td>\n",
       "      <td>0.135447</td>\n",
       "    </tr>\n",
       "  </tbody>\n",
       "</table>\n",
       "</div>"
      ],
      "text/plain": [
       "Pclass         1         2         3\n",
       "Sex                                 \n",
       "female  0.968085  0.921053  0.500000\n",
       "male    0.368852  0.157407  0.135447"
      ]
     },
     "execution_count": 81,
     "metadata": {},
     "output_type": "execute_result"
    }
   ],
   "source": [
    "#两个特征：sex和Pclass（船舱等级）\n",
    "df.pivot_table('Survived',index='Sex',columns='Pclass')"
   ]
  },
  {
   "cell_type": "code",
   "execution_count": 82,
   "id": "5b08051f",
   "metadata": {},
   "outputs": [],
   "source": [
    "#多个特征：但船费fare和年龄age的值比较分散————要用到pd.cut()和pd.qcut()"
   ]
  },
  {
   "cell_type": "code",
   "execution_count": 83,
   "id": "4bc260b1",
   "metadata": {},
   "outputs": [
    {
     "data": {
      "text/plain": [
       "PassengerId\n",
       "1        (0.0, 25.0]\n",
       "2      (25.0, 120.0]\n",
       "3      (25.0, 120.0]\n",
       "4      (25.0, 120.0]\n",
       "5      (25.0, 120.0]\n",
       "           ...      \n",
       "887    (25.0, 120.0]\n",
       "888      (0.0, 25.0]\n",
       "889              NaN\n",
       "890    (25.0, 120.0]\n",
       "891    (25.0, 120.0]\n",
       "Name: Age, Length: 891, dtype: category\n",
       "Categories (2, interval[int64]): [(0, 25] < (25, 120]]"
      ]
     },
     "execution_count": 83,
     "metadata": {},
     "output_type": "execute_result"
    }
   ],
   "source": [
    "#重置年龄列\n",
    "age = pd.cut(df['Age'],[0,25,120])   #以25岁为分水岭\\\n",
    "age\n",
    "#因此cut的作用就是把 连续 的列利用区间改成 离散 的列"
   ]
  },
  {
   "cell_type": "code",
   "execution_count": 84,
   "id": "0a6283c1",
   "metadata": {},
   "outputs": [
    {
     "data": {
      "text/html": [
       "<div>\n",
       "<style scoped>\n",
       "    .dataframe tbody tr th:only-of-type {\n",
       "        vertical-align: middle;\n",
       "    }\n",
       "\n",
       "    .dataframe tbody tr th {\n",
       "        vertical-align: top;\n",
       "    }\n",
       "\n",
       "    .dataframe thead th {\n",
       "        text-align: right;\n",
       "    }\n",
       "</style>\n",
       "<table border=\"1\" class=\"dataframe\">\n",
       "  <thead>\n",
       "    <tr style=\"text-align: right;\">\n",
       "      <th></th>\n",
       "      <th>Pclass</th>\n",
       "      <th>1</th>\n",
       "      <th>2</th>\n",
       "      <th>3</th>\n",
       "    </tr>\n",
       "    <tr>\n",
       "      <th>Sex</th>\n",
       "      <th>Age</th>\n",
       "      <th></th>\n",
       "      <th></th>\n",
       "      <th></th>\n",
       "    </tr>\n",
       "  </thead>\n",
       "  <tbody>\n",
       "    <tr>\n",
       "      <th rowspan=\"2\" valign=\"top\">female</th>\n",
       "      <th>(0, 25]</th>\n",
       "      <td>0.928571</td>\n",
       "      <td>0.965517</td>\n",
       "      <td>0.507692</td>\n",
       "    </tr>\n",
       "    <tr>\n",
       "      <th>(25, 120]</th>\n",
       "      <td>0.982456</td>\n",
       "      <td>0.888889</td>\n",
       "      <td>0.378378</td>\n",
       "    </tr>\n",
       "    <tr>\n",
       "      <th rowspan=\"2\" valign=\"top\">male</th>\n",
       "      <th>(0, 25]</th>\n",
       "      <td>0.500000</td>\n",
       "      <td>0.277778</td>\n",
       "      <td>0.155039</td>\n",
       "    </tr>\n",
       "    <tr>\n",
       "      <th>(25, 120]</th>\n",
       "      <td>0.379310</td>\n",
       "      <td>0.079365</td>\n",
       "      <td>0.145161</td>\n",
       "    </tr>\n",
       "  </tbody>\n",
       "</table>\n",
       "</div>"
      ],
      "text/plain": [
       "Pclass                   1         2         3\n",
       "Sex    Age                                    \n",
       "female (0, 25]    0.928571  0.965517  0.507692\n",
       "       (25, 120]  0.982456  0.888889  0.378378\n",
       "male   (0, 25]    0.500000  0.277778  0.155039\n",
       "       (25, 120]  0.379310  0.079365  0.145161"
      ]
     },
     "execution_count": 84,
     "metadata": {},
     "output_type": "execute_result"
    }
   ],
   "source": [
    "#三个特征：Sex，Pclass，Age\n",
    "df.pivot_table('Survived',index=['Sex',age],columns='Pclass')"
   ]
  },
  {
   "cell_type": "code",
   "execution_count": 86,
   "id": "9dbe6aaa",
   "metadata": {},
   "outputs": [
    {
     "data": {
      "text/plain": [
       "PassengerId\n",
       "1       (-0.001, 14.454]\n",
       "2      (14.454, 512.329]\n",
       "3       (-0.001, 14.454]\n",
       "4      (14.454, 512.329]\n",
       "5       (-0.001, 14.454]\n",
       "             ...        \n",
       "887     (-0.001, 14.454]\n",
       "888    (14.454, 512.329]\n",
       "889    (14.454, 512.329]\n",
       "890    (14.454, 512.329]\n",
       "891     (-0.001, 14.454]\n",
       "Name: Fare, Length: 891, dtype: category\n",
       "Categories (2, interval[float64]): [(-0.001, 14.454] < (14.454, 512.329]]"
      ]
     },
     "execution_count": 86,
     "metadata": {},
     "output_type": "execute_result"
    }
   ],
   "source": [
    "#重置费用列\n",
    "fare = pd.qcut(df['Fare'],2)   #将费用自动分成两部分\n",
    "fare\n",
    "#实际分析不建议使用qcut这种自动分割，建议自己画个图用cut手动分割"
   ]
  },
  {
   "cell_type": "code",
   "execution_count": 87,
   "id": "2d02effc",
   "metadata": {},
   "outputs": [
    {
     "data": {
      "text/html": [
       "<div>\n",
       "<style scoped>\n",
       "    .dataframe tbody tr th:only-of-type {\n",
       "        vertical-align: middle;\n",
       "    }\n",
       "\n",
       "    .dataframe tbody tr th {\n",
       "        vertical-align: top;\n",
       "    }\n",
       "\n",
       "    .dataframe thead tr th {\n",
       "        text-align: left;\n",
       "    }\n",
       "\n",
       "    .dataframe thead tr:last-of-type th {\n",
       "        text-align: right;\n",
       "    }\n",
       "</style>\n",
       "<table border=\"1\" class=\"dataframe\">\n",
       "  <thead>\n",
       "    <tr>\n",
       "      <th></th>\n",
       "      <th>Sex</th>\n",
       "      <th colspan=\"2\" halign=\"left\">female</th>\n",
       "      <th colspan=\"2\" halign=\"left\">male</th>\n",
       "    </tr>\n",
       "    <tr>\n",
       "      <th></th>\n",
       "      <th>Age</th>\n",
       "      <th>(0, 25]</th>\n",
       "      <th>(25, 120]</th>\n",
       "      <th>(0, 25]</th>\n",
       "      <th>(25, 120]</th>\n",
       "    </tr>\n",
       "    <tr>\n",
       "      <th>Pclass</th>\n",
       "      <th>Fare</th>\n",
       "      <th></th>\n",
       "      <th></th>\n",
       "      <th></th>\n",
       "      <th></th>\n",
       "    </tr>\n",
       "  </thead>\n",
       "  <tbody>\n",
       "    <tr>\n",
       "      <th rowspan=\"2\" valign=\"top\">1</th>\n",
       "      <th>(-0.001, 14.454]</th>\n",
       "      <td>NaN</td>\n",
       "      <td>NaN</td>\n",
       "      <td>NaN</td>\n",
       "      <td>0.000000</td>\n",
       "    </tr>\n",
       "    <tr>\n",
       "      <th>(14.454, 512.329]</th>\n",
       "      <td>0.928571</td>\n",
       "      <td>0.982456</td>\n",
       "      <td>0.500000</td>\n",
       "      <td>0.397590</td>\n",
       "    </tr>\n",
       "    <tr>\n",
       "      <th rowspan=\"2\" valign=\"top\">2</th>\n",
       "      <th>(-0.001, 14.454]</th>\n",
       "      <td>0.857143</td>\n",
       "      <td>0.904762</td>\n",
       "      <td>0.055556</td>\n",
       "      <td>0.108108</td>\n",
       "    </tr>\n",
       "    <tr>\n",
       "      <th>(14.454, 512.329]</th>\n",
       "      <td>1.000000</td>\n",
       "      <td>0.875000</td>\n",
       "      <td>0.500000</td>\n",
       "      <td>0.038462</td>\n",
       "    </tr>\n",
       "    <tr>\n",
       "      <th rowspan=\"2\" valign=\"top\">3</th>\n",
       "      <th>(-0.001, 14.454]</th>\n",
       "      <td>0.589744</td>\n",
       "      <td>0.444444</td>\n",
       "      <td>0.147368</td>\n",
       "      <td>0.134615</td>\n",
       "    </tr>\n",
       "    <tr>\n",
       "      <th>(14.454, 512.329]</th>\n",
       "      <td>0.384615</td>\n",
       "      <td>0.315789</td>\n",
       "      <td>0.176471</td>\n",
       "      <td>0.200000</td>\n",
       "    </tr>\n",
       "  </tbody>\n",
       "</table>\n",
       "</div>"
      ],
      "text/plain": [
       "Sex                         female                male          \n",
       "Age                        (0, 25] (25, 120]   (0, 25] (25, 120]\n",
       "Pclass Fare                                                     \n",
       "1      (-0.001, 14.454]        NaN       NaN       NaN  0.000000\n",
       "       (14.454, 512.329]  0.928571  0.982456  0.500000  0.397590\n",
       "2      (-0.001, 14.454]   0.857143  0.904762  0.055556  0.108108\n",
       "       (14.454, 512.329]  1.000000  0.875000  0.500000  0.038462\n",
       "3      (-0.001, 14.454]   0.589744  0.444444  0.147368  0.134615\n",
       "       (14.454, 512.329]  0.384615  0.315789  0.176471  0.200000"
      ]
     },
     "execution_count": 87,
     "metadata": {},
     "output_type": "execute_result"
    }
   ],
   "source": [
    "#四个特征：Sex，Pclass，Age，Fare\n",
    "df.pivot_table('Survived',index=['Pclass',fare],columns=['Sex',age])"
   ]
  },
  {
   "cell_type": "code",
   "execution_count": null,
   "id": "db833c6f",
   "metadata": {},
   "outputs": [],
   "source": [
    "#finish！！！"
   ]
  }
 ],
 "metadata": {
  "kernelspec": {
   "display_name": "DL",
   "language": "python",
   "name": "dl"
  },
  "language_info": {
   "codemirror_mode": {
    "name": "ipython",
    "version": 3
   },
   "file_extension": ".py",
   "mimetype": "text/x-python",
   "name": "python",
   "nbconvert_exporter": "python",
   "pygments_lexer": "ipython3",
   "version": "3.9.21"
  }
 },
 "nbformat": 4,
 "nbformat_minor": 5
}
