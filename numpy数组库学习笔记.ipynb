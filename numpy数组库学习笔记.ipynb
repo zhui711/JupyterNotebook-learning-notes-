{
 "cells": [
  {
   "cell_type": "code",
   "execution_count": null,
   "id": "d5f480b5",
   "metadata": {},
   "outputs": [],
   "source": [
    "#part1：创建指定数组和处理形式"
   ]
  },
  {
   "cell_type": "code",
   "execution_count": 7,
   "id": "e20ae4f8",
   "metadata": {},
   "outputs": [],
   "source": [
    "import numpy as np\n",
    "#把numpy作为np导入了，接下来就能直接用这个库中的函数"
   ]
  },
  {
   "cell_type": "code",
   "execution_count": 8,
   "id": "816f5031",
   "metadata": {},
   "outputs": [
    {
     "name": "stdout",
     "output_type": "stream",
     "text": [
      "[1 2 3]\n"
     ]
    }
   ],
   "source": [
    "arr1=np.array([1,2,3])\n",
    "print(arr1)\n",
    "#array是np库中的一个函数"
   ]
  },
  {
   "cell_type": "code",
   "execution_count": 9,
   "id": "b5bb3a2f",
   "metadata": {},
   "outputs": [
    {
     "name": "stdout",
     "output_type": "stream",
     "text": [
      "[1. 2. 3.]\n"
     ]
    }
   ],
   "source": [
    "arr2=arr1.astype(float)\n",
    "print(arr2)\n",
    "#转化数组类型，int转float\n",
    "#以后要换数据类型另起一行加一步.astype()就可以了"
   ]
  },
  {
   "cell_type": "code",
   "execution_count": 10,
   "id": "1015ad8b",
   "metadata": {},
   "outputs": [
    {
     "name": "stdout",
     "output_type": "stream",
     "text": [
      "[[1]\n",
      " [2]\n",
      " [3]]\n"
     ]
    }
   ],
   "source": [
    "arr3=arr1.reshape(3,1)\n",
    "print(arr3)\n",
    "#对数组进行升维"
   ]
  },
  {
   "cell_type": "code",
   "execution_count": 11,
   "id": "c5e45555",
   "metadata": {},
   "outputs": [
    {
     "name": "stdout",
     "output_type": "stream",
     "text": [
      "[1 2 3]\n"
     ]
    }
   ],
   "source": [
    "arr4=arr3.reshape(-1)\n",
    "print(arr4)\n",
    "#还是用reshape降维，直接写-1很方便就是让它自己算剩下的参数（不是实际含义而是功能含义）or用reshape写成万能目标维数即可"
   ]
  },
  {
   "cell_type": "code",
   "execution_count": 13,
   "id": "9dc3c7b7",
   "metadata": {},
   "outputs": [
    {
     "name": "stdout",
     "output_type": "stream",
     "text": [
      "[[1 2 3]]\n",
      "[[1]\n",
      " [2]\n",
      " [3]]\n"
     ]
    }
   ],
   "source": [
    "#创建二维数组的行/列矩阵\n",
    "arr2=np.array([[1,2,3]])\n",
    "arr3=np.array([[1],[2],[3]])\n",
    "print(arr2)\n",
    "print(arr3)\n",
    "#二维数组肯定要包两个[]的，但是怎么包就决定了其是行/列矩阵——写在一起就默认行"
   ]
  },
  {
   "cell_type": "code",
   "execution_count": 14,
   "id": "8b3fa211",
   "metadata": {},
   "outputs": [],
   "source": [
    "#创建递增数组"
   ]
  },
  {
   "cell_type": "code",
   "execution_count": 15,
   "id": "c76067a1",
   "metadata": {},
   "outputs": [
    {
     "name": "stdout",
     "output_type": "stream",
     "text": [
      "[0 1 2 3 4 5 6 7 8 9]\n"
     ]
    }
   ],
   "source": [
    "arr1=np.arange(10)   #从0开始，到10之前结束（还是那个左闭右开原则）\n",
    "print(arr1)"
   ]
  },
  {
   "cell_type": "code",
   "execution_count": 16,
   "id": "a2db7128",
   "metadata": {},
   "outputs": [
    {
     "name": "stdout",
     "output_type": "stream",
     "text": [
      "[10 11 12 13 14 15 16 17 18 19]\n"
     ]
    }
   ],
   "source": [
    "arr2=np.arange(10,20)  #从10开始，到20之前结束\n",
    "print(arr2)"
   ]
  },
  {
   "cell_type": "code",
   "execution_count": 18,
   "id": "31687c7f",
   "metadata": {},
   "outputs": [
    {
     "name": "stdout",
     "output_type": "stream",
     "text": [
      "[ 1  3  5  7  9 11 13 15 17 19]\n"
     ]
    }
   ],
   "source": [
    "arr3=np.arange(1,21,2)  #从1开始，到21之前结束，步长为2\n",
    "print(arr3)"
   ]
  },
  {
   "cell_type": "code",
   "execution_count": 19,
   "id": "963768c2",
   "metadata": {},
   "outputs": [],
   "source": [
    "#创建同值数组"
   ]
  },
  {
   "cell_type": "code",
   "execution_count": 20,
   "id": "aa789336",
   "metadata": {},
   "outputs": [
    {
     "name": "stdout",
     "output_type": "stream",
     "text": [
      "[0. 0. 0.]\n"
     ]
    }
   ],
   "source": [
    "#全0数组\n",
    "arr1=np.zeros(3)  #形状为3的向量，同样如果传1，3就会得到一个行矩阵\n",
    "print(arr1)"
   ]
  },
  {
   "cell_type": "code",
   "execution_count": 22,
   "id": "9f4dd678",
   "metadata": {},
   "outputs": [
    {
     "name": "stdout",
     "output_type": "stream",
     "text": [
      "[[1. 1. 1.]\n",
      " [1. 1. 1.]]\n"
     ]
    }
   ],
   "source": [
    "#全1数组\n",
    "arr2=np.ones((2,3))  #注意还要再包个括号表示生成矩阵；外面那个括号指的是函数的括号\n",
    "print(arr2)"
   ]
  },
  {
   "cell_type": "code",
   "execution_count": 23,
   "id": "29920229",
   "metadata": {},
   "outputs": [
    {
     "name": "stdout",
     "output_type": "stream",
     "text": [
      "[[3.14 3.14 3.14]\n",
      " [3.14 3.14 3.14]]\n"
     ]
    }
   ],
   "source": [
    "#别的全值数组（如3.14）\n",
    "arr3=3.14*np.ones((2,3))  #在外面×一下就行\n",
    "print(arr3)"
   ]
  },
  {
   "cell_type": "code",
   "execution_count": 24,
   "id": "9189ee2b",
   "metadata": {},
   "outputs": [],
   "source": [
    "#创建随机数组——np.random()函数\n",
    "#详情见笔记pdf"
   ]
  },
  {
   "cell_type": "code",
   "execution_count": 25,
   "id": "90874b27",
   "metadata": {},
   "outputs": [],
   "source": [
    "#part2：访问数组元素"
   ]
  },
  {
   "cell_type": "code",
   "execution_count": 26,
   "id": "66994439",
   "metadata": {},
   "outputs": [],
   "source": [
    "#part3：数组切片——用“：”\n",
    "#🔺跳跃采样（ML常用）\n",
    "#数组提取——还是用“：”，但切片在前，提取在后，中间用“，”隔开"
   ]
  },
  {
   "cell_type": "code",
   "execution_count": 27,
   "id": "7a0a7ba7",
   "metadata": {},
   "outputs": [],
   "source": [
    "#注意：为了节约内存对两个数组直接取等还是共用一个内存，要想使它们相互独立互不影响只能使用.copy"
   ]
  },
  {
   "cell_type": "code",
   "execution_count": 28,
   "id": "6e2e3c6f",
   "metadata": {},
   "outputs": [],
   "source": [
    "#part4：数组的变形"
   ]
  },
  {
   "cell_type": "code",
   "execution_count": 30,
   "id": "8a2a6347",
   "metadata": {},
   "outputs": [
    {
     "name": "stdout",
     "output_type": "stream",
     "text": [
      "[[0]\n",
      " [1]\n",
      " [2]]\n"
     ]
    }
   ],
   "source": [
    "#用.T进行矩阵的转置————向量要先转为矩阵才能.T\n",
    "arr1=np.arange(3).reshape(3,1)  #创建列矩阵\n",
    "print(arr1)"
   ]
  },
  {
   "cell_type": "code",
   "execution_count": 31,
   "id": "95250d14",
   "metadata": {},
   "outputs": [
    {
     "name": "stdout",
     "output_type": "stream",
     "text": [
      "[[0 1 2]]\n"
     ]
    }
   ],
   "source": [
    "arr2=arr1.T\n",
    "print(arr2)"
   ]
  },
  {
   "cell_type": "code",
   "execution_count": 32,
   "id": "179a815e",
   "metadata": {},
   "outputs": [],
   "source": [
    "#🔺数组的翻转（ML常用）\n",
    "#上下翻转是np.flipud()；左右翻转是np.fliplr()————其中向量只能使用前者，解释分别是up&down以及left&right"
   ]
  },
  {
   "cell_type": "code",
   "execution_count": 33,
   "id": "5b52edba",
   "metadata": {},
   "outputs": [
    {
     "name": "stdout",
     "output_type": "stream",
     "text": [
      "[9 8 7 6 5 4 3 2 1 0]\n"
     ]
    }
   ],
   "source": [
    "#向量翻转\n",
    "arr1=np.arange(10)\n",
    "arr_ud=np.flipud(arr1)\n",
    "print(arr_ud)"
   ]
  },
  {
   "cell_type": "code",
   "execution_count": 34,
   "id": "54b2f588",
   "metadata": {},
   "outputs": [
    {
     "name": "stdout",
     "output_type": "stream",
     "text": [
      "[[ 1  2  3  4  5]\n",
      " [ 6  7  8  9 10]\n",
      " [11 12 13 14 15]\n",
      " [16 17 18 19 20]]\n"
     ]
    }
   ],
   "source": [
    "#矩阵翻转\n",
    "arr2=np.arange(1,21).reshape(4,5)\n",
    "print(arr2)"
   ]
  },
  {
   "cell_type": "code",
   "execution_count": 35,
   "id": "81ef302d",
   "metadata": {},
   "outputs": [
    {
     "name": "stdout",
     "output_type": "stream",
     "text": [
      "[[ 5  4  3  2  1]\n",
      " [10  9  8  7  6]\n",
      " [15 14 13 12 11]\n",
      " [20 19 18 17 16]]\n"
     ]
    }
   ],
   "source": [
    "#左右翻转\n",
    "arr_lr=np.fliplr(arr2)\n",
    "print(arr_lr)"
   ]
  },
  {
   "cell_type": "code",
   "execution_count": 36,
   "id": "55981593",
   "metadata": {},
   "outputs": [
    {
     "name": "stdout",
     "output_type": "stream",
     "text": [
      "[[16 17 18 19 20]\n",
      " [11 12 13 14 15]\n",
      " [ 6  7  8  9 10]\n",
      " [ 1  2  3  4  5]]\n"
     ]
    }
   ],
   "source": [
    "#上下翻转\n",
    "arr_ud=np.flipud(arr2)\n",
    "print(arr_ud)"
   ]
  },
  {
   "cell_type": "code",
   "execution_count": 37,
   "id": "184e01a2",
   "metadata": {},
   "outputs": [],
   "source": [
    "#数组拼接：使用np.concatenate([数组名1，数组名2])函数——————拼接前要确保同维度"
   ]
  },
  {
   "cell_type": "code",
   "execution_count": 38,
   "id": "0fcd30a2",
   "metadata": {},
   "outputs": [],
   "source": [
    "#数组分裂：使用np.split(数组名，[参数1，参数2])——————参数1和参数2就是表示在第几个空位处砍一刀"
   ]
  },
  {
   "cell_type": "code",
   "execution_count": 39,
   "id": "a7e87365",
   "metadata": {},
   "outputs": [
    {
     "name": "stdout",
     "output_type": "stream",
     "text": [
      "[10 20 30 40 50 60 70 80 90]\n"
     ]
    }
   ],
   "source": [
    "arr=np.arange(10,100,10)\n",
    "print(arr)"
   ]
  },
  {
   "cell_type": "code",
   "execution_count": 40,
   "id": "f931a09f",
   "metadata": {},
   "outputs": [
    {
     "name": "stdout",
     "output_type": "stream",
     "text": [
      "[10 20]\n",
      "[30 40 50 60 70 80]\n",
      "[90]\n"
     ]
    }
   ],
   "source": [
    "#分裂数组\n",
    "arr1,arr2,arr3=np.split(arr,[2,8])   #表示从第2，8个空砍一刀，且要拿新数组去接\n",
    "print(arr1)\n",
    "print(arr2)\n",
    "print(arr3)"
   ]
  },
  {
   "cell_type": "code",
   "execution_count": 41,
   "id": "5ea5691d",
   "metadata": {},
   "outputs": [
    {
     "name": "stdout",
     "output_type": "stream",
     "text": [
      "[[1 2 3 4]\n",
      " [5 6 7 8]]\n"
     ]
    }
   ],
   "source": [
    "#分裂矩阵\n",
    "arr=np.arange(1,9).reshape(2,4)\n",
    "print(arr)"
   ]
  },
  {
   "cell_type": "code",
   "execution_count": 44,
   "id": "534a183f",
   "metadata": {},
   "outputs": [
    {
     "name": "stdout",
     "output_type": "stream",
     "text": [
      "[[1 2 3 4]] \n",
      "\n",
      " [[5 6 7 8]]\n"
     ]
    }
   ],
   "source": [
    "#按照第一个维度（行）进行分裂\n",
    "arr1,arr2=np.split(arr,[1])          #这里第三个参数没写是默认了axis=0：即按行分裂\n",
    "print(arr1,'\\n\\n',arr2)              #python中换行符\\n的实现是字符串（老是忘记）"
   ]
  },
  {
   "cell_type": "code",
   "execution_count": 46,
   "id": "3cbd4a53",
   "metadata": {},
   "outputs": [
    {
     "name": "stdout",
     "output_type": "stream",
     "text": [
      "[[1]\n",
      " [5]] \n",
      "\n",
      " [[2 3]\n",
      " [6 7]] \n",
      "\n",
      " [[4]\n",
      " [8]]\n"
     ]
    }
   ],
   "source": [
    "#按照第二个维度（列）进行分类\n",
    "arr1,arr2,arr3=np.split(arr,[1,3],axis=1)   #表示从列的第1，3个空分裂\n",
    "print(arr1,'\\n\\n',arr2,'\\n\\n',arr3)"
   ]
  },
  {
   "cell_type": "code",
   "execution_count": 47,
   "id": "5b7975d1",
   "metadata": {},
   "outputs": [],
   "source": [
    "#part5：数组运算——即对应元素间的运算\n",
    "#如果要实现线代中的矩阵乘法则要借鉴下一part中的函数"
   ]
  },
  {
   "cell_type": "code",
   "execution_count": 48,
   "id": "1edf64fb",
   "metadata": {},
   "outputs": [
    {
     "name": "stdout",
     "output_type": "stream",
     "text": [
      "[[0]\n",
      " [1]\n",
      " [2]]\n"
     ]
    }
   ],
   "source": [
    "#如果某行/列矩阵与一般的矩阵进行运算，它就会被广播用来适配另一个矩阵\n",
    "arr1=np.arange(3).reshape(3,1)\n",
    "print(arr1)"
   ]
  },
  {
   "cell_type": "code",
   "execution_count": 49,
   "id": "097127d8",
   "metadata": {},
   "outputs": [
    {
     "name": "stdout",
     "output_type": "stream",
     "text": [
      "[[1. 1. 1. 1. 1.]\n",
      " [1. 1. 1. 1. 1.]\n",
      " [1. 1. 1. 1. 1.]]\n"
     ]
    }
   ],
   "source": [
    "arr2=np.ones((3,5))\n",
    "print(arr2)"
   ]
  },
  {
   "cell_type": "code",
   "execution_count": 50,
   "id": "ddd298fd",
   "metadata": {},
   "outputs": [
    {
     "name": "stdout",
     "output_type": "stream",
     "text": [
      "[[0. 0. 0. 0. 0.]\n",
      " [1. 1. 1. 1. 1.]\n",
      " [2. 2. 2. 2. 2.]]\n"
     ]
    }
   ],
   "source": [
    "#广播\n",
    "print(arr1*arr2)"
   ]
  },
  {
   "cell_type": "code",
   "execution_count": 51,
   "id": "19d51183",
   "metadata": {},
   "outputs": [],
   "source": [
    "#part6：数组的函数"
   ]
  },
  {
   "cell_type": "code",
   "execution_count": 53,
   "id": "c72af1df",
   "metadata": {},
   "outputs": [],
   "source": [
    "#矩阵乘法函数：np.dot()\n",
    "#注意要符合矩阵乘法的运算法则\n",
    "#当混有向量时输出结果就是向量（向量和单行/列的矩阵还是差了个[]的）"
   ]
  },
  {
   "cell_type": "code",
   "execution_count": 54,
   "id": "632cbc6e",
   "metadata": {},
   "outputs": [
    {
     "name": "stdout",
     "output_type": "stream",
     "text": [
      "[0 1 2 3 4]\n",
      "[[ 0  1  2]\n",
      " [ 3  4  5]\n",
      " [ 6  7  8]\n",
      " [ 9 10 11]\n",
      " [12 13 14]]\n"
     ]
    }
   ],
   "source": [
    "#e.g.:向量形状为5，矩阵形状为(5,3)，故结果应该是(1,5)×(5,3)=(1,3)形状为3的向量\n",
    "arr1=np.arange(5)\n",
    "arr2=np.arange(15).reshape(5,3)\n",
    "print(arr1)\n",
    "print(arr2)"
   ]
  },
  {
   "cell_type": "code",
   "execution_count": 55,
   "id": "92671fe6",
   "metadata": {},
   "outputs": [
    {
     "name": "stdout",
     "output_type": "stream",
     "text": [
      "[ 90 100 110]\n"
     ]
    }
   ],
   "source": [
    "#矩阵乘法\n",
    "print(np.dot(arr1,arr2))\n",
    "#矩阵和矩阵相乘以此类推"
   ]
  },
  {
   "cell_type": "code",
   "execution_count": 56,
   "id": "ef96f9e5",
   "metadata": {},
   "outputs": [],
   "source": [
    "#数学函数：\n",
    "#绝对值函数：np.abs()\n",
    "#三角函数：np.sin/cos/tan()\n",
    "#指数函数：np.exp()是有关e的 & 一般的用运算符**即可\n",
    "#对数函数：np.log ———— 想表示以2为底就换底公式，如np.log(x)/np.log(2)"
   ]
  },
  {
   "cell_type": "code",
   "execution_count": 59,
   "id": "b91b8e88",
   "metadata": {},
   "outputs": [],
   "source": [
    "#🔺聚合函数"
   ]
  },
  {
   "cell_type": "code",
   "execution_count": 60,
   "id": "902ab8bd",
   "metadata": {},
   "outputs": [],
   "source": [
    "#最大/最小值函数:np.max()/np/min()  ——————  可以通过axis参数来比数组的行和列"
   ]
  },
  {
   "cell_type": "code",
   "execution_count": 61,
   "id": "8ef14959",
   "metadata": {},
   "outputs": [
    {
     "name": "stdout",
     "output_type": "stream",
     "text": [
      "[[0.29671438 0.11643891 0.05000038]\n",
      " [0.96718412 0.48750066 0.18845598]]\n"
     ]
    }
   ],
   "source": [
    "arr=np.random.random((2,3))\n",
    "print(arr)"
   ]
  },
  {
   "cell_type": "code",
   "execution_count": 62,
   "id": "dd78b452",
   "metadata": {},
   "outputs": [
    {
     "name": "stdout",
     "output_type": "stream",
     "text": [
      "按维度一求最大值： [0.96718412 0.48750066 0.18845598]\n"
     ]
    }
   ],
   "source": [
    "print('按维度一求最大值：',np.max(arr,axis=0))    #这里axis=0表示的不是比较行的最大值了，是以行的视角去一个个比较列的max最终得到一行的结果"
   ]
  },
  {
   "cell_type": "code",
   "execution_count": 64,
   "id": "715f94c7",
   "metadata": {},
   "outputs": [
    {
     "name": "stdout",
     "output_type": "stream",
     "text": [
      "按维度二求最大值： [0.29671438 0.96718412]\n"
     ]
    }
   ],
   "source": [
    "print('按维度二求最大值：',np.max(arr,axis=1))"
   ]
  },
  {
   "cell_type": "code",
   "execution_count": 65,
   "id": "0d1b8c41",
   "metadata": {},
   "outputs": [
    {
     "name": "stdout",
     "output_type": "stream",
     "text": [
      "整体求最大值： 0.9671841170002258\n"
     ]
    }
   ],
   "source": [
    "print('整体求最大值：',np.max(arr))   "
   ]
  },
  {
   "cell_type": "code",
   "execution_count": 66,
   "id": "a4445962",
   "metadata": {},
   "outputs": [],
   "source": [
    "#求和函数np.sum()\n",
    "#求积函数np.prod()"
   ]
  },
  {
   "cell_type": "code",
   "execution_count": 67,
   "id": "7097235e",
   "metadata": {},
   "outputs": [
    {
     "name": "stdout",
     "output_type": "stream",
     "text": [
      "[[0 1 2 3 4]\n",
      " [5 6 7 8 9]]\n",
      "按维度一求和： [ 5  7  9 11 13]\n",
      "按维度二求和： [10 35]\n",
      "整体求和： 45\n"
     ]
    }
   ],
   "source": [
    "arr=np.arange(10).reshape(2,5)\n",
    "print(arr)\n",
    "print('按维度一求和：',np.sum(arr,axis=0))         #以行的视角一列列去加和\n",
    "print('按维度二求和：',np.sum(arr,axis=1))\n",
    "print('整体求和：',np.sum(arr))"
   ]
  },
  {
   "cell_type": "code",
   "execution_count": 68,
   "id": "b995dfeb",
   "metadata": {},
   "outputs": [],
   "source": [
    "#均值函数np.mean()\n",
    "#标准差函数np.std()\n",
    "#应用与上一致"
   ]
  },
  {
   "cell_type": "code",
   "execution_count": 69,
   "id": "f8450b54",
   "metadata": {},
   "outputs": [],
   "source": [
    "#skills：当axis=0时，最终结果与每一行的元素个数一致\n",
    "#        当axis=1时，最终结果与每一列的元素个数一致"
   ]
  },
  {
   "cell_type": "code",
   "execution_count": 70,
   "id": "ece61a4e",
   "metadata": {},
   "outputs": [],
   "source": [
    "#part7：布尔型数组\n",
    "#实现方式：与index作比较；同维数组之间作比较\n",
    "#意义如下：1.判断数组元素关系  2.作为index筛选(掩码)"
   ]
  },
  {
   "cell_type": "code",
   "execution_count": null,
   "id": "e7a6e79f",
   "metadata": {},
   "outputs": [],
   "source": [
    "#np.any()函数————只要布尔型数组里有一个及其以上的True就返回True\n",
    "#np.all()函数——当布尔型数组全是True时才返回True"
   ]
  },
  {
   "cell_type": "code",
   "execution_count": 72,
   "id": "d3d60bc1",
   "metadata": {},
   "outputs": [
    {
     "name": "stdout",
     "output_type": "stream",
     "text": [
      "[1 2 3 4 5 6 7 8 9]\n",
      "[9 8 7 6 5 4 3 2 1]\n",
      "True\n"
     ]
    }
   ],
   "source": [
    "arr1=np.arange(1,10)\n",
    "arr2=np.flipud(arr1)\n",
    "print(arr1)\n",
    "print(arr2)\n",
    "#统计这两个数组里是否有共同元素\n",
    "print(np.any(arr1==arr2))"
   ]
  },
  {
   "cell_type": "code",
   "execution_count": 73,
   "id": "95ae89e2",
   "metadata": {},
   "outputs": [
    {
     "name": "stdout",
     "output_type": "stream",
     "text": [
      "False\n"
     ]
    }
   ],
   "source": [
    "arr=np.random.normal(500,70,10000)\n",
    "print(np.all(arr>250))   #判断是否所有的数据都大于250"
   ]
  },
  {
   "cell_type": "code",
   "execution_count": 74,
   "id": "f07dba2f",
   "metadata": {},
   "outputs": [
    {
     "name": "stdout",
     "output_type": "stream",
     "text": [
      "[[ 1  2  3  4]\n",
      " [ 5  6  7  8]\n",
      " [ 9 10 11 12]]\n",
      "[[False False False False]\n",
      " [ True  True  True  True]\n",
      " [ True  True  True  True]]\n",
      "[ 5  6  7  8  9 10 11 12]\n"
     ]
    }
   ],
   "source": [
    "#以布尔型数组作为index（掩码）筛选符合条件的元素——————最重要的功能\n",
    "arr=np.arange(1,13).reshape(3,4)\n",
    "print(arr)\n",
    "print(arr>4)  #arr>4已经是一个新的布尔型数组了\n",
    "print(arr[arr>4])\n",
    "#布尔数组的每个布尔值（True/False）与原数组的每个元素一一对应\n",
    "#注意：对矩阵进行掩码操作后退化为了向量"
   ]
  },
  {
   "cell_type": "code",
   "execution_count": 75,
   "id": "cf242939",
   "metadata": {},
   "outputs": [],
   "source": [
    "#想知道满足某个条件的元素们所在的索引位置————使用np.where()函数"
   ]
  },
  {
   "cell_type": "code",
   "execution_count": 76,
   "id": "9ca85cc9",
   "metadata": {},
   "outputs": [],
   "source": [
    "#模拟英语六级成绩的随机数组，取10000个样本\n",
    "arr=np.random.normal(500,70,10000)"
   ]
  },
  {
   "cell_type": "code",
   "execution_count": 78,
   "id": "a3f1690f",
   "metadata": {},
   "outputs": [
    {
     "name": "stdout",
     "output_type": "stream",
     "text": [
      "(array([  21,   84,  195,  197,  278,  336,  348,  417,  445,  516,  600,\n",
      "        726,  780,  811,  926, 1116, 1136, 1232, 1245, 1298, 1523, 1585,\n",
      "       1591, 1593, 1604, 1612, 1636, 1674, 1698, 1779, 1907, 2036, 2082,\n",
      "       2126, 2230, 2253, 2361, 2454, 2531, 2553, 2644, 2763, 2778, 2830,\n",
      "       2861, 2913, 2988, 3013, 3018, 3075, 3130, 3138, 3298, 3367, 3404,\n",
      "       3415, 3535, 3706, 3745, 3805, 3849, 3910, 4098, 4102, 4128, 4160,\n",
      "       4190, 4248, 4293, 4329, 4346, 4403, 4405, 4447, 4450, 4549, 4694,\n",
      "       4707, 5155, 5167, 5175, 5279, 5302, 5493, 5596, 5696, 5818, 5868,\n",
      "       5871, 5989, 6014, 6167, 6193, 6199, 6297, 6300, 6464, 6490, 6511,\n",
      "       6524, 6561, 6866, 6961, 6984, 7122, 7124, 7150, 7230, 7262, 7369,\n",
      "       7385, 7422, 7429, 7523, 7535, 7575, 7603, 7728, 7736, 7789, 7828,\n",
      "       7838, 7971, 8126, 8182, 8208, 8220, 8237, 8269, 8276, 8354, 8356,\n",
      "       8397, 8460, 8461, 8466, 8479, 8484, 8524, 8643, 8678, 8877, 9009,\n",
      "       9110, 9135, 9165, 9194, 9344, 9404, 9538, 9604, 9637, 9663, 9792,\n",
      "       9810, 9911, 9918], dtype=int64),)\n"
     ]
    }
   ],
   "source": [
    "#找出六级成绩超过650的元素所在位置\n",
    "print(np.where(arr>650))"
   ]
  },
  {
   "cell_type": "code",
   "execution_count": 79,
   "id": "f54192d8",
   "metadata": {},
   "outputs": [
    {
     "name": "stdout",
     "output_type": "stream",
     "text": [
      "(array([4190], dtype=int64),)\n"
     ]
    }
   ],
   "source": [
    "#找出六级成绩最高分的元素位置\n",
    "print(np.where(arr==np.max(arr)))  #np.max(arr)是标量就是唯一的那个最大值"
   ]
  },
  {
   "cell_type": "code",
   "execution_count": 80,
   "id": "794da185",
   "metadata": {},
   "outputs": [],
   "source": [
    "#part8：数组-张量"
   ]
  },
  {
   "cell_type": "code",
   "execution_count": 81,
   "id": "c515a809",
   "metadata": {},
   "outputs": [],
   "source": [
    "#numpy与pytorch的基础语法几乎一致，体现为：\n",
    "#1.np对应torch\n",
    "#2.数组array对应张量tensor\n",
    "#3.numpy的n维数组对应pytorch的n维张量"
   ]
  },
  {
   "cell_type": "code",
   "execution_count": null,
   "id": "66b93c22",
   "metadata": {},
   "outputs": [],
   "source": [
    "#finish！！！"
   ]
  }
 ],
 "metadata": {
  "kernelspec": {
   "display_name": "DL",
   "language": "python",
   "name": "dl"
  },
  "language_info": {
   "codemirror_mode": {
    "name": "ipython",
    "version": 3
   },
   "file_extension": ".py",
   "mimetype": "text/x-python",
   "name": "python",
   "nbconvert_exporter": "python",
   "pygments_lexer": "ipython3",
   "version": "3.9.21"
  }
 },
 "nbformat": 4,
 "nbformat_minor": 5
}
